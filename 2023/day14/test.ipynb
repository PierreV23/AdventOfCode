{
 "cells": [
  {
   "cell_type": "code",
   "execution_count": 33,
   "metadata": {},
   "outputs": [
    {
     "name": "stdout",
     "output_type": "stream",
     "text": [
      "136\n",
      "108813\n"
     ]
    }
   ],
   "source": [
    "from collections import defaultdict\n",
    "from typing import Iterable\n",
    "from itertools import chain\n",
    "\n",
    "\n",
    "def parser(file = 'input.txt'):\n",
    "    with open(file, 'r') as file:\n",
    "        for line in file:\n",
    "            yield line.strip('\\n')\n",
    "\n",
    "def solver(lines: Iterable[str]):\n",
    "    lines = [*lines]\n",
    "    grid = [(y, x) for y, row in enumerate(lines) for x, char in enumerate(row) if char == '#']\n",
    "    rocks = []\n",
    "    for x in range(len(lines[0])):\n",
    "        grid.append((-1, x))\n",
    "    for y, row in enumerate(lines):\n",
    "        for x, char in enumerate(row):\n",
    "            if char != 'O':\n",
    "                continue\n",
    "            m = max(filter(lambda y_x: y_x[0] <= y and y_x[1] == x, chain(grid, rocks)), key=lambda y_x: y_x[0])\n",
    "            rocks.append((m[0]+1, x))\n",
    "    # print('\\n'.join(\n",
    "    #     ''.join(\n",
    "    #         '#' if (y, x) in grid else ('O' if (y,x) in rocks else '.')\n",
    "    #         for x, char in enumerate(row)\n",
    "    #     ) + f\" {len(lines) - y:02}\"\n",
    "    #     for y, row in enumerate(lines)\n",
    "    # ))\n",
    "    return sum(len(lines) - y for (y, _x) in rocks)\n",
    "\n",
    "\n",
    "\n",
    "if __name__ == '__main__':\n",
    "    test = solver(parser('test_input.txt'))\n",
    "    print(test)\n",
    "    assert test == 136\n",
    "    print(solver(parser()))"
   ]
  },
  {
   "cell_type": "code",
   "execution_count": null,
   "metadata": {},
   "outputs": [],
   "source": []
  }
 ],
 "metadata": {
  "kernelspec": {
   "display_name": "Python 3",
   "language": "python",
   "name": "python3"
  },
  "language_info": {
   "codemirror_mode": {
    "name": "ipython",
    "version": 3
   },
   "file_extension": ".py",
   "mimetype": "text/x-python",
   "name": "python",
   "nbconvert_exporter": "python",
   "pygments_lexer": "ipython3",
   "version": "3.10.5"
  }
 },
 "nbformat": 4,
 "nbformat_minor": 2
}
