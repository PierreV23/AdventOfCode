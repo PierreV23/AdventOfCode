{
 "cells": [
  {
   "cell_type": "code",
   "execution_count": 7,
   "metadata": {},
   "outputs": [],
   "source": [
    "from __future__ import annotations\n",
    "from collections import defaultdict\n",
    "from typing import Iterable, TypeVar\n",
    "from pprint import pprint\n",
    "\n",
    "\n",
    "class BetterRange:\n",
    "    start: int\n",
    "    end: int\n",
    "    def __init__(self, start, end):\n",
    "        self.start = start\n",
    "        self.end = end\n",
    "    \n",
    "    def __contains__(self, n: int) -> bool:\n",
    "        return self.start <= n < self.end\n",
    "    \n",
    "    def __and__(self, other: BetterRange) -> None | BetterRange:\n",
    "        if other.start in self or other.end in self:\n",
    "            start = max(self.start, other.start)\n",
    "            end = min(self.end, other.end)\n",
    "            return BetterRange(start, end)\n",
    "        elif self.start in other or self.end in other:\n",
    "            start = max(self.start, other.start)\n",
    "            end = min(self.end, other.end)\n",
    "            return BetterRange(start, end)\n",
    "        return None\n",
    "    \n",
    "    def __repr__(self):\n",
    "        return f\"BetterRange({self.start}, {self.end})\" "
   ]
  },
  {
   "cell_type": "code",
   "execution_count": 8,
   "metadata": {},
   "outputs": [
    {
     "name": "stdout",
     "output_type": "stream",
     "text": [
      "BetterRange(5, 10)\n",
      "BetterRange(5, 10)\n",
      "BetterRange(5, 12)\n"
     ]
    }
   ],
   "source": [
    "print(BetterRange(2, 10) & BetterRange(5, 12))\n",
    "print(BetterRange(5, 10) & BetterRange(5, 12))\n",
    "print(BetterRange(5, 12) & BetterRange(2, 12))\n",
    "print(BetterRange(5, 12) & BetterRange(2, 8))"
   ]
  },
  {
   "cell_type": "code",
   "execution_count": 5,
   "metadata": {},
   "outputs": [
    {
     "name": "stdout",
     "output_type": "stream",
     "text": [
      "BetterRange(5, 10)\n"
     ]
    }
   ],
   "source": []
  },
  {
   "cell_type": "code",
   "execution_count": null,
   "metadata": {},
   "outputs": [],
   "source": []
  }
 ],
 "metadata": {
  "kernelspec": {
   "display_name": "base",
   "language": "python",
   "name": "python3"
  },
  "language_info": {
   "codemirror_mode": {
    "name": "ipython",
    "version": 3
   },
   "file_extension": ".py",
   "mimetype": "text/x-python",
   "name": "python",
   "nbconvert_exporter": "python",
   "pygments_lexer": "ipython3",
   "version": "3.11.5"
  }
 },
 "nbformat": 4,
 "nbformat_minor": 2
}
