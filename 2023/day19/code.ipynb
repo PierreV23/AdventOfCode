{
 "cells": [
  {
   "cell_type": "code",
   "execution_count": 17,
   "metadata": {},
   "outputs": [
    {
     "name": "stdout",
     "output_type": "stream",
     "text": [
      "19114\n",
      "472630\n"
     ]
    }
   ],
   "source": [
    "from __future__ import annotations\n",
    "from typing import Iterable, Literal\n",
    "from typing_extensions import Self\n",
    "\n",
    "\n",
    "def parser(file = 'input.txt'):\n",
    "    with open(file, 'r') as file:\n",
    "        # for line in file:\n",
    "        #     yield line.strip('\\n')\n",
    "        workflows_raw, cases = file.read().split('\\n\\n')\n",
    "        workflows = {}\n",
    "        for wf in workflows_raw.split('\\n'):\n",
    "            key = wf[:wf.index('{')]\n",
    "            rules_raw = wf[wf.index('{')+1:-1]\n",
    "            rules = [(rule[0], rule[1], int(rule[2:rule.index(':')]), rule[rule.index(':')+1:]) if ':' in rule else rule for rule in rules_raw.split(',')]\n",
    "            possible_destinations = [r[-1] for r in rules[:-1]] + [rules[-1]]\n",
    "            # print(key, rules, possible_destinations)\n",
    "            if key in workflows:\n",
    "                raise Exception()\n",
    "            workflows[key] = (rules, possible_destinations)\n",
    "        cases = [{combo[0]:int(combo[2:]) for combo in case[1:-1].split(',')} for case in cases.split('\\n')]\n",
    "        # print(cases)\n",
    "        return workflows, cases\n",
    "\n",
    "\n",
    "def solver(workflows, cases):\n",
    "    # print([key for key, (rules, dests) in workflows.items() if 'A' in dests])\n",
    "    summed = 0\n",
    "    for case in cases:\n",
    "        # print(\"\\nCASE\")\n",
    "        curr = 'in'\n",
    "        while not curr or curr not in 'AR':\n",
    "            # print(curr)\n",
    "            rules, _ = workflows[curr]\n",
    "            else_dest = rules[-1]\n",
    "            \n",
    "            for rule in rules[:-1]:\n",
    "                var, op, value, new = rule\n",
    "                if {'>': int.__gt__, '<': int.__lt__}[op](case[var], value):\n",
    "                    curr = new\n",
    "                    break\n",
    "            else:\n",
    "                curr = else_dest\n",
    "        if curr == 'A':\n",
    "            # print(case, curr)\n",
    "            summed += sum(case.values())\n",
    "    return summed\n",
    "\n",
    "\n",
    "if __name__ == '__main__':\n",
    "    test_p1 = solver(*parser('test_input.txt'))\n",
    "    print(test_p1)\n",
    "    assert test_p1 == 19114, test_p1\n",
    "    print(solver(*parser()))\n",
    "\n",
    "    # test_p2 = solver(parser('test_input.txt'))\n",
    "    # test_p2 = solver(parser('test_input_p2.txt'))\n",
    "    # print(test_p2)\n",
    "    # assert test_p2 == None, test_p2\n",
    "    # print(solver(parser()))"
   ]
  },
  {
   "cell_type": "code",
   "execution_count": 4,
   "metadata": {},
   "outputs": [],
   "source": []
  },
  {
   "cell_type": "code",
   "execution_count": 5,
   "metadata": {},
   "outputs": [
    {
     "name": "stdout",
     "output_type": "stream",
     "text": [
      "infrange(start=3, end=5)\n"
     ]
    }
   ],
   "source": [
    "N = int | Literal['inf']\n",
    "\n",
    "class infrange:\n",
    "    start: N\n",
    "    end: N\n",
    "\n",
    "    def __init__(self, start: N, end: N):\n",
    "        self.start = start\n",
    "        self.end = end\n",
    "    \n",
    "    def __and__(self, other: Self):\n",
    "        match (self.start, other.start):\n",
    "            case 'inf', 'inf':\n",
    "                start = 'inf'\n",
    "            case _, 'inf':\n",
    "                start = self.start\n",
    "            case 'inf', _:\n",
    "                start = other.start\n",
    "            case a, b:\n",
    "                start = max(a, b)\n",
    "        \n",
    "        match (self.end, other.end):\n",
    "            case 'inf', 'inf':\n",
    "                end = 'inf'\n",
    "            case _, 'inf':\n",
    "                end = self.end\n",
    "            case 'inf', _:\n",
    "                end = other.end\n",
    "            case a, b:\n",
    "                end = min(a, b)\n",
    "        \n",
    "        return infrange(start, end)\n",
    "    \n",
    "    def __repr__(self):\n",
    "        return f'infrange(start={self.start}, end={self.end})'\n",
    "\n",
    "print(infrange('inf', 5) & infrange(3, 'inf'))"
   ]
  },
  {
   "cell_type": "code",
   "execution_count": null,
   "metadata": {},
   "outputs": [],
   "source": []
  }
 ],
 "metadata": {
  "kernelspec": {
   "display_name": "Python 3",
   "language": "python",
   "name": "python3"
  },
  "language_info": {
   "codemirror_mode": {
    "name": "ipython",
    "version": 3
   },
   "file_extension": ".py",
   "mimetype": "text/x-python",
   "name": "python",
   "nbconvert_exporter": "python",
   "pygments_lexer": "ipython3",
   "version": "3.10.5"
  }
 },
 "nbformat": 4,
 "nbformat_minor": 2
}
