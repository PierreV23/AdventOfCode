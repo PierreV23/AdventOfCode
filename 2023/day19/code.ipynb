{
 "cells": [
  {
   "cell_type": "code",
   "execution_count": 1,
   "metadata": {},
   "outputs": [
    {
     "name": "stdout",
     "output_type": "stream",
     "text": [
      "None\n"
     ]
    }
   ],
   "source": [
    "from typing import Iterable\n",
    "\n",
    "\n",
    "def parser(file = 'input.txt'):\n",
    "    with open(file, 'r') as file:\n",
    "        # for line in file:\n",
    "        #     yield line.strip('\\n')\n",
    "        workflows, cases = file.read().split('\\n\\n')\n",
    "        workflows\n",
    "        return workflows, cases\n",
    "\n",
    "def solver(workflows, cases):\n",
    "    ...\n",
    "    return None\n",
    "\n",
    "\n",
    "if __name__ == '__main__':\n",
    "    test_p1 = solver(*parser('test_input.txt'))\n",
    "    print(test_p1)\n",
    "    assert test_p1 == None, test_p1\n",
    "    # print(solver(parser()))\n",
    "\n",
    "    # test_p2 = solver(parser('test_input.txt'))\n",
    "    # test_p2 = solver(parser('test_input_p2.txt'))\n",
    "    # print(test_p2)\n",
    "    # assert test_p2 == None, test_p2\n",
    "    # print(solver(parser()))"
   ]
  },
  {
   "cell_type": "code",
   "execution_count": null,
   "metadata": {},
   "outputs": [],
   "source": []
  }
 ],
 "metadata": {
  "kernelspec": {
   "display_name": "Python 3",
   "language": "python",
   "name": "python3"
  },
  "language_info": {
   "codemirror_mode": {
    "name": "ipython",
    "version": 3
   },
   "file_extension": ".py",
   "mimetype": "text/x-python",
   "name": "python",
   "nbconvert_exporter": "python",
   "pygments_lexer": "ipython3",
   "version": "3.9.11"
  }
 },
 "nbformat": 4,
 "nbformat_minor": 2
}
