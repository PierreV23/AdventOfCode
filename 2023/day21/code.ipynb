{
 "cells": [
  {
   "cell_type": "code",
   "execution_count": 11,
   "metadata": {},
   "outputs": [
    {
     "name": "stdout",
     "output_type": "stream",
     "text": [
      "{(5, 4): 5, (4, 5): 5, (5, 5): 4, (5, 3): 4, (6, 4): 4, (3, 5): 4, (6, 3): 3, (4, 3): 3, (7, 4): 3, (3, 6): 3, (7, 3): 2, (4, 2): 2, (3, 3): 2, (7, 5): 2, (3, 7): 2, (7, 2): 1, (8, 3): 1, (4, 1): 1, (7, 6): 1, (8, 5): 1, (4, 7): 1, (2, 7): 1, (7, 1): 0, (9, 3): 0, (4, 0): 0, (3, 1): 0, (6, 6): 0, (4, 8): 0, (2, 8): 0}\n",
      "30\n"
     ]
    },
    {
     "ename": "AssertionError",
     "evalue": "30",
     "output_type": "error",
     "traceback": [
      "\u001b[0;31m---------------------------------------------------------------------------\u001b[0m",
      "\u001b[0;31mAssertionError\u001b[0m                            Traceback (most recent call last)",
      "Cell \u001b[0;32mIn[11], line 35\u001b[0m\n\u001b[1;32m     33\u001b[0m test_p1 \u001b[38;5;241m=\u001b[39m solver(parser(\u001b[38;5;124m'\u001b[39m\u001b[38;5;124mtest_input.txt\u001b[39m\u001b[38;5;124m'\u001b[39m), steps\u001b[38;5;241m=\u001b[39m\u001b[38;5;241m6\u001b[39m)\n\u001b[1;32m     34\u001b[0m \u001b[38;5;28mprint\u001b[39m(test_p1)\n\u001b[0;32m---> 35\u001b[0m \u001b[38;5;28;01massert\u001b[39;00m test_p1 \u001b[38;5;241m==\u001b[39m \u001b[38;5;241m16\u001b[39m, test_p1\n\u001b[1;32m     36\u001b[0m \u001b[38;5;66;03m# print(solver(parser()))\u001b[39;00m\n\u001b[1;32m     37\u001b[0m \n\u001b[1;32m     38\u001b[0m \u001b[38;5;66;03m# test_p2 = solver(parser('test_input.txt'))\u001b[39;00m\n\u001b[1;32m     39\u001b[0m \u001b[38;5;66;03m# test_p2 = solver(parser('test_input_p2.txt'))\u001b[39;00m\n\u001b[1;32m     40\u001b[0m \u001b[38;5;66;03m# print(test_p2)\u001b[39;00m\n\u001b[1;32m     41\u001b[0m \u001b[38;5;66;03m# assert test_p2 == None, test_p2\u001b[39;00m\n\u001b[1;32m     42\u001b[0m \u001b[38;5;28mprint\u001b[39m(solver(parser()))\n",
      "\u001b[0;31mAssertionError\u001b[0m: 30"
     ]
    }
   ],
   "source": [
    "from collections import defaultdict\n",
    "from typing import Iterable\n",
    "\n",
    "\n",
    "def parser(file = 'input.txt'):\n",
    "    with open(file, 'r') as file:\n",
    "        for line in file:\n",
    "            yield line.strip('\\n')\n",
    "        # return file.read().split('\\n\\n')\n",
    "\n",
    "def solver(grid: Iterable[str], max_steps=64):\n",
    "    grid = [*grid]\n",
    "    height = len(grid)\n",
    "    width = len(grid[0])\n",
    "    sy, sx = [(y, row.index('S')) for y, row in enumerate(grid) if 'S' in row][0]\n",
    "    queue: list[tuple[int, int, int]] = [(sy, sx, max_steps)] # waar we nog heen moeten en hoeveel stappen we hebbe gedaan\n",
    "    seen = defaultdict(lambda: 0) # waar we zijn geweest en hoeveel stappen we er over hebben gedaan\n",
    "    for y, x, steps in queue:\n",
    "        if steps >= max_steps:\n",
    "            continue\n",
    "        for dy, dx in ((0, 1), (0, -1), (1, 0), (-1, 0)):\n",
    "            ny = y + dy\n",
    "            nx = x + dx\n",
    "            \n",
    "    # print(seen)\n",
    "    return len([v for v in seen.values() if v == max_steps])\n",
    "\n",
    "\n",
    "if __name__ == '__main__':\n",
    "    test_p1 = solver(parser('test_input.txt'), steps=6)\n",
    "    print(test_p1)\n",
    "    assert test_p1 == 16, test_p1\n",
    "    # print(solver(parser()))\n",
    "\n",
    "    # test_p2 = solver(parser('test_input.txt'))\n",
    "    # test_p2 = solver(parser('test_input_p2.txt'))\n",
    "    # print(test_p2)\n",
    "    # assert test_p2 == None, test_p2\n",
    "    print(solver(parser()))"
   ]
  },
  {
   "cell_type": "code",
   "execution_count": null,
   "metadata": {},
   "outputs": [],
   "source": []
  }
 ],
 "metadata": {
  "kernelspec": {
   "display_name": "Python 3",
   "language": "python",
   "name": "python3"
  },
  "language_info": {
   "codemirror_mode": {
    "name": "ipython",
    "version": 3
   },
   "file_extension": ".py",
   "mimetype": "text/x-python",
   "name": "python",
   "nbconvert_exporter": "python",
   "pygments_lexer": "ipython3",
   "version": "3.11.5"
  }
 },
 "nbformat": 4,
 "nbformat_minor": 2
}
