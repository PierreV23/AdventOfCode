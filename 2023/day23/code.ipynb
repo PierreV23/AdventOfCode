{
 "cells": [
  {
   "cell_type": "code",
   "execution_count": 2,
   "metadata": {},
   "outputs": [
    {
     "ename": "",
     "evalue": "",
     "output_type": "error",
     "traceback": [
      "\u001b[1;31mThe Kernel crashed while executing code in the the current cell or a previous cell. Please review the code in the cell(s) to identify a possible cause of the failure. Click <a href='https://aka.ms/vscodeJupyterKernelCrash'>here</a> for more info. View Jupyter <a href='command:jupyter.viewOutput'>log</a> for further details."
     ]
    }
   ],
   "source": [
    "from typing import Iterable\n",
    "import sys\n",
    "sys.setrecursionlimit(10_000)\n",
    "\n",
    "\n",
    "def parser(file = 'input.txt'):\n",
    "    with open(file, 'r') as file:\n",
    "        return file.read().strip().split('\\n')\n",
    "        # return file.read().strip().split('\\n\\n')\n",
    "\n",
    "def solver(lines: list[str]):\n",
    "    print('after solver call')\n",
    "    lines = [*lines]\n",
    "    grid = {(y,x):c for y, row in enumerate(lines) for x, c in enumerate(row)}\n",
    "    start = next((0, x) for x, cell in enumerate(lines[0]) if cell == '.')\n",
    "    end = next((len(lines)-1, x) for x, cell in enumerate(lines[-1]) if cell == '.')\n",
    "\n",
    "    def r(seen: list, pos: tuple[int, int], steps: int):\n",
    "        if pos == end:\n",
    "            # lol stel je voor bug hebben omdat je perongelijk uppercase V gebruikte\n",
    "            # s = '\\n'.join(\n",
    "            #     ''.join('O' if (y, x) in seen and c not in '><v^' else c for x, c in enumerate(row))\n",
    "            #     for y, row in enumerate(lines)\n",
    "            # )\n",
    "            # print(steps, seen)\n",
    "            # print(steps)\n",
    "            # print(s)\n",
    "            return steps\n",
    "        char = grid[pos]\n",
    "        dirs = ((0, 1), (0, -1), (1, 0), (-1, 0))\n",
    "        slopes = {\n",
    "                '>': (0, 1),\n",
    "                '<': (0, -1),\n",
    "                '^': (-1, 0),\n",
    "                'v': (1, 0),\n",
    "            }\n",
    "        if char in '><v^':\n",
    "            dirs = (slopes[char],)\n",
    "        highest = -1\n",
    "        y, x = pos\n",
    "        for dy, dx in dirs:\n",
    "            ny, nx = y + dy, x + dx\n",
    "            if (ny, nx) not in grid:\n",
    "                continue\n",
    "            new_char = grid[ny, nx]\n",
    "            if new_char == '#' or (ny, nx) in seen:\n",
    "                continue\n",
    "            if new_char in '><v^' and (dy, dx) != slopes[new_char]:\n",
    "                continue\n",
    "            highest = max(highest, r(seen[::] + [(ny, nx)], (ny, nx), steps + 1))\n",
    "        return highest\n",
    "    \n",
    "    print(start, end)\n",
    "    ans = r([start], start, steps=0)\n",
    "    return ans\n",
    "    \n",
    "\n",
    "\n",
    "\n",
    "\n",
    "test_p1 = solver(parser('test_input.txt'))\n",
    "print(test_p1)\n",
    "assert test_p1 == 94, test_p1\n",
    "# print(solver(parser()))\n",
    "\n",
    "# test_p2 = solver(parser('test_input.txt'))\n",
    "# test_p2 = solver(parser('test_input_p2.txt'))\n",
    "# print(test_p2)\n",
    "# assert test_p2 == None, test_p2\n",
    "inp = parser()\n",
    "print('before solver call')\n",
    "solver(inp)\n",
    "\n",
    "\n",
    "...\n",
    "# jupyter kernel somehow crashing everytime i try to call solver with full input\n",
    "# (probably recursion limit L)\n"
   ]
  },
  {
   "cell_type": "code",
   "execution_count": null,
   "metadata": {},
   "outputs": [],
   "source": []
  }
 ],
 "metadata": {
  "kernelspec": {
   "display_name": "Python 3",
   "language": "python",
   "name": "python3"
  },
  "language_info": {
   "codemirror_mode": {
    "name": "ipython",
    "version": 3
   },
   "file_extension": ".py",
   "mimetype": "text/x-python",
   "name": "python",
   "nbconvert_exporter": "python",
   "pygments_lexer": "ipython3",
   "version": "3.10.5"
  }
 },
 "nbformat": 4,
 "nbformat_minor": 2
}
