{
 "cells": [
  {
   "cell_type": "code",
   "execution_count": 52,
   "metadata": {},
   "outputs": [
    {
     "name": "stdout",
     "output_type": "stream",
     "text": [
      "102\n",
      "102\n",
      "970\n",
      "970\n"
     ]
    }
   ],
   "source": [
    "from collections import defaultdict\n",
    "from typing import Iterable\n",
    "from heapq import heappop, heappush\n",
    "\n",
    "\n",
    "def parser(file = 'input.txt'):\n",
    "    with open(file, 'r') as file:\n",
    "        for line in file:\n",
    "            yield line.strip('\\n')\n",
    "\n",
    "directions = {\n",
    "    (1, 0),\n",
    "    (-1, 0),\n",
    "    (0, 1),\n",
    "    (0, -1),\n",
    "}\n",
    "\n",
    "inverted = lambda t: (-t[0], -t[1])\n",
    "\n",
    "def solver(lines: Iterable[str]):\n",
    "    grid = [*lines]\n",
    "    height = len(grid)\n",
    "    width = len(grid[0])\n",
    "    visited = set()\n",
    "    queue: list[tuple[int, int, int, tuple[int, int], int]] = [(0, 0, 0, dir, 0) for dir in directions]\n",
    "    while queue:\n",
    "        (loss, y, x, dir, length) = heappop(queue)\n",
    "        \n",
    "        if (y, x) == (height - 1, width -1):\n",
    "            print(loss)\n",
    "            return loss\n",
    "            break\n",
    "\n",
    "        if (y, x, dir, length) in visited:\n",
    "            continue\n",
    "\n",
    "        visited.add((y, x, dir, length))\n",
    "\n",
    "        for new_dir in directions ^ {inverted(dir)}:\n",
    "            ny, nx = y + new_dir[0], x + new_dir[1]\n",
    "            if not (0 <= ny < height and 0 <= nx < width):\n",
    "                continue\n",
    "            \n",
    "            new_loss = loss + int(grid[ny][nx])\n",
    "\n",
    "            if new_dir == dir:\n",
    "                if length < 3:\n",
    "                    heappush(queue, (new_loss, ny, nx, new_dir, length + 1))\n",
    "            else:\n",
    "                heappush(queue, (new_loss, ny, nx, new_dir, 1))\n",
    "    # print(visited)\n",
    "    raise Exception()\n",
    "\n",
    "\n",
    "if __name__ == '__main__':\n",
    "    test = solver(parser('test_input.txt'))\n",
    "    print(test)\n",
    "    assert test == 102, test\n",
    "    print(solver(parser()))"
   ]
  },
  {
   "cell_type": "code",
   "execution_count": null,
   "metadata": {},
   "outputs": [],
   "source": []
  },
  {
   "cell_type": "code",
   "execution_count": null,
   "metadata": {},
   "outputs": [],
   "source": []
  }
 ],
 "metadata": {
  "kernelspec": {
   "display_name": "Python 3",
   "language": "python",
   "name": "python3"
  },
  "language_info": {
   "codemirror_mode": {
    "name": "ipython",
    "version": 3
   },
   "file_extension": ".py",
   "mimetype": "text/x-python",
   "name": "python",
   "nbconvert_exporter": "python",
   "pygments_lexer": "ipython3",
   "version": "3.9.11"
  }
 },
 "nbformat": 4,
 "nbformat_minor": 2
}
