{
 "cells": [
  {
   "cell_type": "code",
   "execution_count": 5,
   "metadata": {},
   "outputs": [
    {
     "name": "stdout",
     "output_type": "stream",
     "text": [
      "62.0\n"
     ]
    },
    {
     "ename": "AssertionError",
     "evalue": "62.0",
     "output_type": "error",
     "traceback": [
      "\u001b[0;31m---------------------------------------------------------------------------\u001b[0m",
      "\u001b[0;31mAssertionError\u001b[0m                            Traceback (most recent call last)",
      "Cell \u001b[0;32mIn[5], line 45\u001b[0m\n\u001b[1;32m     43\u001b[0m test_p1 \u001b[38;5;241m=\u001b[39m solver(parser(\u001b[38;5;124m'\u001b[39m\u001b[38;5;124mtest_input.txt\u001b[39m\u001b[38;5;124m'\u001b[39m))\n\u001b[1;32m     44\u001b[0m \u001b[38;5;28mprint\u001b[39m(test_p1)\n\u001b[0;32m---> 45\u001b[0m \u001b[38;5;28;01massert\u001b[39;00m test_p1 \u001b[38;5;241m==\u001b[39m \u001b[38;5;28;01mNone\u001b[39;00m, test_p1\n",
      "\u001b[0;31mAssertionError\u001b[0m: 62.0"
     ]
    }
   ],
   "source": [
    "from typing import Iterable\n",
    "import numpy as np\n",
    "\n",
    "def shoelace_formula_3(x, y, absoluteValue = True):\n",
    "    # https://stackoverflow.com/q/41077185\n",
    "    result = 0.5 * np.array(np.dot(x, np.roll(y, 1)) - np.dot(y, np.roll(x, 1)))\n",
    "    if absoluteValue:\n",
    "        return abs(result)\n",
    "    else:\n",
    "        return result\n",
    "\n",
    "def parser(file = 'input.txt'):\n",
    "    with open(file, 'r') as file:\n",
    "        for line in file:\n",
    "            yield line.strip('\\n')\n",
    "        # return file.read().split('\\n\\n')\n",
    "\n",
    "def solver(lines: Iterable[str]):\n",
    "    lines = [*lines]\n",
    "    xs, ys = [0,], [0,]\n",
    "    x, y = 0, 0\n",
    "    b = 0\n",
    "    for line in lines:\n",
    "        d, n, _hex = line.split(' ')\n",
    "        n = int(n)\n",
    "        dx, dy = {\n",
    "            'R': (0, 1),\n",
    "            'L': (0, -1),\n",
    "            'U': (-1, 0),\n",
    "            'D': (1, 0),\n",
    "        }[d]\n",
    "        x += dx*n\n",
    "        y += dy*n\n",
    "        xs.append(x)\n",
    "        ys.append(y)\n",
    "        b += n\n",
    "    return shoelace_formula_3(xs, ys)//1 + b//2 + 1\n",
    "\n",
    "\n",
    "if __name__ == '__main__':\n",
    "    test_p1 = solver(parser('test_input.txt'))\n",
    "    print(test_p1)\n",
    "    assert test_p1 == None, test_p1\n",
    "    # print(solver(parser()))\n",
    "\n",
    "    # test_p2 = solver(parser('test_input.txt'))\n",
    "    # test_p2 = solver(parser('test_input_p2.txt'))\n",
    "    # print(test_p2)\n",
    "    # assert test_p2 == None, test_p2\n",
    "    # print(solver(parser()))"
   ]
  },
  {
   "cell_type": "code",
   "execution_count": null,
   "metadata": {},
   "outputs": [],
   "source": []
  }
 ],
 "metadata": {
  "kernelspec": {
   "display_name": "Python 3",
   "language": "python",
   "name": "python3"
  },
  "language_info": {
   "codemirror_mode": {
    "name": "ipython",
    "version": 3
   },
   "file_extension": ".py",
   "mimetype": "text/x-python",
   "name": "python",
   "nbconvert_exporter": "python",
   "pygments_lexer": "ipython3",
   "version": "3.11.5"
  }
 },
 "nbformat": 4,
 "nbformat_minor": 2
}
