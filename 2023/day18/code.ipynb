{
 "cells": [
  {
   "cell_type": "code",
   "execution_count": 11,
   "metadata": {},
   "outputs": [
    {
     "name": "stdout",
     "output_type": "stream",
     "text": [
      "62.0\n",
      "49897.0\n",
      "952408144115.0\n",
      "194033958221830.0\n"
     ]
    }
   ],
   "source": [
    "from typing import Iterable\n",
    "import numpy as np\n",
    "\n",
    "def shoelace_formula_3(x, y, absoluteValue = True):\n",
    "    # https://stackoverflow.com/q/41077185\n",
    "    result = 0.5 * np.array(np.dot(x, np.roll(y, 1)) - np.dot(y, np.roll(x, 1)))\n",
    "    if absoluteValue:\n",
    "        return abs(result)\n",
    "    else:\n",
    "        return result\n",
    "\n",
    "def parser(file = 'input.txt'):\n",
    "    with open(file, 'r') as file:\n",
    "        for line in file:\n",
    "            yield line.strip('\\n')\n",
    "        # return file.read().split('\\n\\n')\n",
    "\n",
    "def solver(lines: Iterable[str], is_part2 = False):\n",
    "    lines = [*lines]\n",
    "    xs, ys = [0,], [0,]\n",
    "    x, y = 0, 0\n",
    "    b = 0\n",
    "    for line in lines:\n",
    "        d, n, hex = line.split(' ')\n",
    "        n = int(n)\n",
    "        if is_part2:\n",
    "            n = int(hex[2:-2], 16)\n",
    "            d = \"RDLU\"[int(hex[-2])]\n",
    "        dx, dy = {\n",
    "            'R': (0, 1),\n",
    "            'L': (0, -1),\n",
    "            'U': (-1, 0),\n",
    "            'D': (1, 0),\n",
    "        }[d]\n",
    "        x += dx*n\n",
    "        y += dy*n\n",
    "        xs.append(x)\n",
    "        ys.append(y)\n",
    "        b += n\n",
    "    return shoelace_formula_3(xs, ys)//1 + b//2 + 1\n",
    "\n",
    "\n",
    "if __name__ == '__main__':\n",
    "    test_p1 = solver(parser('test_input.txt'))\n",
    "    print(test_p1)\n",
    "    assert test_p1 == 62, test_p1\n",
    "    print(solver(parser()))\n",
    "\n",
    "    test_p2 = solver(parser('test_input.txt'), True)\n",
    "    # test_p2 = solver(parser('test_input_p2.txt'), True)\n",
    "    print(test_p2)\n",
    "    assert test_p2 == 952408144115, test_p2\n",
    "    print(solver(parser(), True))"
   ]
  },
  {
   "cell_type": "code",
   "execution_count": null,
   "metadata": {},
   "outputs": [],
   "source": []
  }
 ],
 "metadata": {
  "kernelspec": {
   "display_name": "Python 3",
   "language": "python",
   "name": "python3"
  },
  "language_info": {
   "codemirror_mode": {
    "name": "ipython",
    "version": 3
   },
   "file_extension": ".py",
   "mimetype": "text/x-python",
   "name": "python",
   "nbconvert_exporter": "python",
   "pygments_lexer": "ipython3",
   "version": "3.11.5"
  }
 },
 "nbformat": 4,
 "nbformat_minor": 2
}
