{
 "cells": [
  {
   "cell_type": "code",
   "execution_count": 1,
   "metadata": {},
   "outputs": [
    {
     "name": "stdout",
     "output_type": "stream",
     "text": [
      "405\n",
      "405\n",
      "29213\n",
      "29213\n",
      "29213\n",
      "400\n",
      "400\n",
      "37453\n",
      "37453\n"
     ]
    }
   ],
   "source": [
    "from pprint import pprint\n",
    "from typing import Iterable\n",
    "import numpy as np\n",
    "\n",
    "\n",
    "def parser(file = 'input.txt'):\n",
    "    with open(file, 'r') as file:\n",
    "        for pattern in file.read().split(\"\\n\\n\"):\n",
    "            yield pattern\n",
    "\n",
    "\n",
    "def solver(inp: Iterable[str], part = 1):\n",
    "    part  -= 1\n",
    "    patterns = [[line for line in lines.split('\\n')] for lines in inp]\n",
    "    total = 0\n",
    "    for rows in patterns:\n",
    "        # print(rows)\n",
    "        width = len(rows[0])\n",
    "        columns = [''.join(row[col_idx] for row in rows) for col_idx in range(width)]\n",
    "        # r, c = f(rows), f(columns)\n",
    "        # print(r, c)\n",
    "        for y, line in enumerate(rows[1:], start=1):\n",
    "            a, b = rows[y:], rows[:y][::-1]\n",
    "            if sum(b != o for boven, onder in zip(a, b) for b, o in zip(boven, onder)) == part:\n",
    "                # print(y)\n",
    "                total += y*100\n",
    "        for x, line in enumerate(columns[1:], start=1):\n",
    "            a, b = columns[x:], columns[:x][::-1]\n",
    "            if sum(l != r for links, rechts in zip(a, b) for l, r in zip(links, rechts)) == part:\n",
    "                # print(y)\n",
    "                total += x\n",
    "    print(total)\n",
    "    return total\n",
    "\n",
    "\n",
    "if __name__ == '__main__':\n",
    "    test = solver(parser('test_input.txt'))\n",
    "    print(test)\n",
    "    assert test == 405, test\n",
    "    print(solver(parser()))\n",
    "    assert solver(parser()) == 29213\n",
    "\n",
    "    test = solver(parser('test_input.txt'), 2)\n",
    "    print(test)\n",
    "    assert test == 400, test\n",
    "    print(solver(parser(), 2))"
   ]
  },
  {
   "cell_type": "code",
   "execution_count": 2,
   "metadata": {},
   "outputs": [
    {
     "name": "stdout",
     "output_type": "stream",
     "text": [
      "[[1 4 7]\n",
      " [2 5 8]\n",
      " [3 6 9]]\n",
      "[[1 2 3]\n",
      " [4 5 6]\n",
      " [7 8 9]]\n"
     ]
    }
   ],
   "source": [
    "import numpy as np\n",
    "arr = np.array([[1, 2, 3], [4, 5, 6], [7, 8, 9]])\n",
    "print(np.transpose(arr))\n",
    "print(arr)"
   ]
  },
  {
   "cell_type": "code",
   "execution_count": null,
   "metadata": {},
   "outputs": [],
   "source": []
  }
 ],
 "metadata": {
  "kernelspec": {
   "display_name": "Python 3",
   "language": "python",
   "name": "python3"
  },
  "language_info": {
   "codemirror_mode": {
    "name": "ipython",
    "version": 3
   },
   "file_extension": ".py",
   "mimetype": "text/x-python",
   "name": "python",
   "nbconvert_exporter": "python",
   "pygments_lexer": "ipython3",
   "version": "3.10.5"
  }
 },
 "nbformat": 4,
 "nbformat_minor": 2
}
