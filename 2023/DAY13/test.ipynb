{
 "cells": [
  {
   "cell_type": "code",
   "execution_count": 110,
   "metadata": {},
   "outputs": [
    {
     "name": "stdout",
     "output_type": "stream",
     "text": [
      "['#.##..##.', '..#.##.#.', '##......#', '##......#', '..#.##.#.', '..##..##.', '#.#.##.#.']\n",
      "columns\n",
      "1 2\n",
      "['#.##..#'] ['..##...']\n",
      "invert ['..##...'] ['##..###']\n",
      "2 3\n",
      "['#.##..#', '..##...'] ['#....#.', '##..###']\n",
      "invert ['##..###', '..##...'] ['#....#.', '.#..#.#']\n",
      "3 4\n",
      "['#.##..#', '..##...', '##..###'] ['.#..#.#', '.#..#.#', '#....#.']\n",
      "invert ['#....#.', '##..###', '..##...'] ['.#..#.#', '.#..#.#', '#....#.']\n",
      "4 5\n",
      "['#.##..#', '..##...', '##..###', '#....#.'] ['##..###', '#....#.', '.#..#.#', '.#..#.#']\n",
      "invert ['.#..#.#', '#....#.', '##..###', '..##...'] ['.#..#.#', '#....#.', '##..###', '..##...']\n",
      "match ['.#..#.#', '#....#.', '##..###', '..##...'] ['.#..#.#', '#....#.', '##..###', '..##...'] 4\n",
      "height\n",
      "1 2\n",
      "['#.##..##.'] ['..#.##.#.']\n",
      "invert ['#.#.##.#.'] ['..##..##.']\n",
      "2 3\n",
      "['#.##..##.', '..#.##.#.'] ['##......#', '##......#']\n",
      "invert ['..##..##.', '#.#.##.#.'] ['..#.##.#.', '##......#']\n",
      "3 4\n",
      "['#.##..##.', '..#.##.#.', '##......#'] ['..##..##.', '..#.##.#.', '##......#']\n",
      "invert ['..#.##.#.', '..##..##.', '#.#.##.#.'] ['##......#', '##......#', '..#.##.#.']\n",
      "0 0\n",
      "0\n",
      "0\n"
     ]
    },
    {
     "ename": "AssertionError",
     "evalue": "0",
     "output_type": "error",
     "traceback": [
      "\u001b[0;31m---------------------------------------------------------------------------\u001b[0m",
      "\u001b[0;31mAssertionError\u001b[0m                            Traceback (most recent call last)",
      "Cell \u001b[0;32mIn[110], line 56\u001b[0m\n\u001b[1;32m     54\u001b[0m test \u001b[38;5;241m=\u001b[39m solver(parser(\u001b[38;5;124m'\u001b[39m\u001b[38;5;124mtest_input.txt\u001b[39m\u001b[38;5;124m'\u001b[39m))\n\u001b[1;32m     55\u001b[0m \u001b[38;5;28mprint\u001b[39m(test)\n\u001b[0;32m---> 56\u001b[0m \u001b[38;5;28;01massert\u001b[39;00m test \u001b[38;5;241m==\u001b[39m \u001b[38;5;241m405\u001b[39m, test\n",
      "\u001b[0;31mAssertionError\u001b[0m: 0"
     ]
    }
   ],
   "source": [
    "from typing import Iterable\n",
    "import numpy as np\n",
    "\n",
    "\n",
    "def parser(file = 'input.txt'):\n",
    "    with open(file, 'r') as file:\n",
    "        for pattern in file.read().split(\"\\n\\n\"):\n",
    "            yield pattern\n",
    "\n",
    "pairs = lambda iterable: (a:=iter(iterable), b:=iter(iterable), next(b), zip(a,b))[-1]\n",
    "\n",
    "\n",
    "def solver(inp: Iterable[str]):\n",
    "    patterns = [[line for line in lines.split('\\n')] for lines in inp]\n",
    "    total = 0\n",
    "    for rows in patterns[:1]:\n",
    "        print(rows)\n",
    "        width = len(rows[0])\n",
    "        height = len(rows)\n",
    "        columns = [''.join(row[col_idx] for row in rows) for col_idx in range(width)]\n",
    "        possible_col, possible_row = 0, 0\n",
    "        print(\"columns\")\n",
    "        for idx in range(1, width//2+1):          \n",
    "            print(idx, idx+1)\n",
    "            l,r = columns[:idx], columns[idx:idx*2][::-1]\n",
    "            print(l, r)\n",
    "            if (l==r):\n",
    "                print(\"match\", l, r, idx)\n",
    "            l,r = columns[-idx:], columns[-idx*2:-idx][::-1]\n",
    "            print(\"invert\", l, r)\n",
    "            if (l==r):\n",
    "                print(\"match\", l, r, idx)\n",
    "        print(\"rows\")\n",
    "        for idx in range(1, height//2+1):\n",
    "            print(idx, idx+1)\n",
    "            l,r = rows[:idx], rows[idx:idx*2][::-1]\n",
    "            print(l, r)\n",
    "            if (l==r):\n",
    "                print(\"match\", l, r, idx)\n",
    "            l,r = rows[-idx:], rows[-idx*2:-idx][::-1]\n",
    "            print(\"invert\", l, r)\n",
    "            if (l==r):\n",
    "                print(\"match\", l, r, idx)\n",
    "            \n",
    "        print(possible_col, possible_row)\n",
    "\n",
    "\n",
    "    print(total)\n",
    "    return total\n",
    "\n",
    "\n",
    "\n",
    "if __name__ == '__main__':\n",
    "    test = solver(parser('test_input.txt'))\n",
    "    print(test)\n",
    "    assert test == 405, test\n",
    "    # print(solver(parser()))"
   ]
  },
  {
   "cell_type": "code",
   "execution_count": 88,
   "metadata": {},
   "outputs": [
    {
     "name": "stdout",
     "output_type": "stream",
     "text": [
      "[[1 4 7]\n",
      " [2 5 8]\n",
      " [3 6 9]]\n",
      "[[1 2 3]\n",
      " [4 5 6]\n",
      " [7 8 9]]\n"
     ]
    }
   ],
   "source": [
    "import numpy as np\n",
    "arr = np.array([[1, 2, 3], [4, 5, 6], [7, 8, 9]])\n",
    "print(np.transpose(arr))\n",
    "print(arr)"
   ]
  },
  {
   "cell_type": "code",
   "execution_count": null,
   "metadata": {},
   "outputs": [],
   "source": []
  }
 ],
 "metadata": {
  "kernelspec": {
   "display_name": "Python 3",
   "language": "python",
   "name": "python3"
  },
  "language_info": {
   "codemirror_mode": {
    "name": "ipython",
    "version": 3
   },
   "file_extension": ".py",
   "mimetype": "text/x-python",
   "name": "python",
   "nbconvert_exporter": "python",
   "pygments_lexer": "ipython3",
   "version": "3.11.5"
  }
 },
 "nbformat": 4,
 "nbformat_minor": 2
}
