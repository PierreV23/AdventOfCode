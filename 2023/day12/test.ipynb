{
 "cells": [
  {
   "cell_type": "code",
   "execution_count": 1,
   "metadata": {},
   "outputs": [
    {
     "name": "stdout",
     "output_type": "stream",
     "text": [
      "None\n",
      "None\n"
     ]
    }
   ],
   "source": [
    "from typing import Iterable\n",
    "\n",
    "\n",
    "def parser(file = 'input.txt'):\n",
    "    with open(file, 'r') as file:\n",
    "        for line in file:\n",
    "            yield line.strip('\\n')\n",
    "\n",
    "def solver(lines: Iterable[str]):\n",
    "    lines = [*lines]\n",
    "\n",
    "\n",
    "if __name__ == '__main__':\n",
    "    test = solver(parser('test_input.txt'))\n",
    "    print(test)\n",
    "    assert test == None\n",
    "    print(solver(parser()))"
   ]
  },
  {
   "cell_type": "code",
   "execution_count": 2,
   "metadata": {},
   "outputs": [
    {
     "name": "stdout",
     "output_type": "stream",
     "text": [
      "['???.### 1,1,3', '.??..??...?##. 1,1,3', '?#?#?#?#?#?#?#? 1,3,1,6', '????.#...#... 4,1,1', '????.######..#####. 1,6,5', '?###???????? 3,2,1']\n",
      "[\\.\\?]*[\\?#]{1}[\\.\\?]+[\\?#]{1}[\\.\\?]+[\\?#]{3}[\\.\\?]*\n",
      "<regex.Match object; span=(0, 14), match='.??..??...?##.'>\n",
      "??..??...?##.\n"
     ]
    },
    {
     "ename": "AttributeError",
     "evalue": "'str' object has no attribute 'start'",
     "output_type": "error",
     "traceback": [
      "\u001b[1;31m---------------------------------------------------------------------------\u001b[0m",
      "\u001b[1;31mAttributeError\u001b[0m                            Traceback (most recent call last)",
      "Cell \u001b[1;32mIn[2], line 26\u001b[0m\n\u001b[0;32m     24\u001b[0m     \u001b[38;5;28;01mwhile\u001b[39;00m match:\n\u001b[0;32m     25\u001b[0m         \u001b[38;5;28mprint\u001b[39m(match)\n\u001b[1;32m---> 26\u001b[0m         match \u001b[38;5;241m=\u001b[39m regex\u001b[38;5;241m.\u001b[39mfindall(pattern, line, pos\u001b[38;5;241m=\u001b[39m\u001b[43mmatch\u001b[49m\u001b[38;5;241;43m.\u001b[39;49m\u001b[43mstart\u001b[49m()\u001b[38;5;241m+\u001b[39m\u001b[38;5;241m1\u001b[39m, overlapped\u001b[38;5;241m=\u001b[39m\u001b[38;5;28;01mTrue\u001b[39;00m)[\u001b[38;5;241m0\u001b[39m]\n\u001b[0;32m     28\u001b[0m     \u001b[38;5;66;03m# print(\"find\", regex.findall(pattern, line, overlapped=True))\u001b[39;00m\n\u001b[0;32m     32\u001b[0m \u001b[38;5;28mprint\u001b[39m(lines)\n",
      "\u001b[1;31mAttributeError\u001b[0m: 'str' object has no attribute 'start'"
     ]
    }
   ],
   "source": [
    "import regex\n",
    "import re\n",
    "\n",
    "\n",
    "lines = \"\"\"\n",
    "???.### 1,1,3\n",
    ".??..??...?##. 1,1,3\n",
    "?#?#?#?#?#?#?#? 1,3,1,6\n",
    "????.#...#... 4,1,1\n",
    "????.######..#####. 1,6,5\n",
    "?###???????? 3,2,1\n",
    "\"\"\"\n",
    "lines = [line for line in lines.split('\\n') if line]\n",
    "print(lines)\n",
    "lines = lines[1:3]\n",
    "for line in lines:\n",
    "    board, layout = line.split(' ')\n",
    "    layout = [int(n) for n in layout.split(',')]\n",
    "    \n",
    "\n",
    "\n",
    "print(lines)"
   ]
  },
  {
   "cell_type": "code",
   "execution_count": null,
   "metadata": {},
   "outputs": [],
   "source": []
  }
 ],
 "metadata": {
  "kernelspec": {
   "display_name": "Python 3",
   "language": "python",
   "name": "python3"
  },
  "language_info": {
   "codemirror_mode": {
    "name": "ipython",
    "version": 3
   },
   "file_extension": ".py",
   "mimetype": "text/x-python",
   "name": "python",
   "nbconvert_exporter": "python",
   "pygments_lexer": "ipython3",
   "version": "3.10.5"
  }
 },
 "nbformat": 4,
 "nbformat_minor": 2
}
