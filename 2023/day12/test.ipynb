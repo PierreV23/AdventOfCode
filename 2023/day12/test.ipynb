{
 "cells": [
  {
   "cell_type": "code",
   "execution_count": 5,
   "metadata": {},
   "outputs": [
    {
     "name": "stdout",
     "output_type": "stream",
     "text": [
      "None\n",
      "None\n"
     ]
    }
   ],
   "source": [
    "from typing import Iterable\n",
    "\n",
    "\n",
    "def parser(file = 'input.txt'):\n",
    "    with open(file, 'r') as file:\n",
    "        for line in file:\n",
    "            yield line.strip('\\n')\n",
    "\n",
    "def solver(lines: Iterable[str]):\n",
    "    lines = [*lines]\n",
    "\n",
    "\n",
    "if __name__ == '__main__':\n",
    "    test = solver(parser('test_input.txt'))\n",
    "    print(test)\n",
    "    assert test == None\n",
    "    print(solver(parser()))"
   ]
  },
  {
   "cell_type": "code",
   "execution_count": 7,
   "metadata": {},
   "outputs": [
    {
     "name": "stdout",
     "output_type": "stream",
     "text": [
      "21\n",
      "7407\n"
     ]
    }
   ],
   "source": [
    "from pprint import pprint\n",
    "\n",
    "def r(rest: list[str]):\n",
    "    if len(rest) == 1:\n",
    "        return rest if rest[0] in '.#' else ['#', '.']\n",
    "    char, *rest = rest\n",
    "    return [c+t for t in r(rest) for c in (char if char in '.#' else '.#')]\n",
    "\n",
    "# lines = [*parser('input.txt')]\n",
    "# print(lines)\n",
    "# lines = lines[1:3]\n",
    "# print(lines)\n",
    "def solver(lines):\n",
    "    summed = 0\n",
    "    for line in lines:\n",
    "        # print(line)\n",
    "        board, layout = line.split(' ')\n",
    "        layout = [int(n) for n in layout.split(',')]\n",
    "        ret = r([*board])\n",
    "        arr = [a for a in ret if [len(p) for p in a.split('.') if p] == layout]\n",
    "        # print(len(arr))\n",
    "        summed += len(arr)\n",
    "    return summed\n",
    "\n",
    "\n",
    "test = solver(parser('test_input.txt'))\n",
    "print(test)\n",
    "assert test == 21\n",
    "print(solver(parser()))\n"
   ]
  },
  {
   "cell_type": "code",
   "execution_count": 14,
   "metadata": {},
   "outputs": [
    {
     "name": "stdout",
     "output_type": "stream",
     "text": [
      "???.### (1, 1, 3) None\n",
      "??.### (1, 1, 3) None\n",
      "?.### (1, 1, 3) None\n",
      ".### (1, 1, 3) None\n",
      "### (1, 1, 3) None\n",
      "## (1, 3) 0\n",
      "# (3,) 0\n",
      " () 2\n",
      ".### (1, 3) 0\n",
      "### (1, 3) 0\n",
      "## (3,) 0\n",
      "# () 2\n",
      "?.### (1, 3) 0\n",
      ".### (1, 3) None\n",
      "### (1, 3) None\n",
      ".### (3,) 0\n",
      "### (3,) 0\n",
      "## () 2\n",
      "??.### (1, 3) 0\n",
      "?.### (1, 3) None\n",
      "?.### (3,) 0\n",
      ".### (3,) None\n",
      "### (3,) None\n",
      ".### () 2\n",
      "None\n"
     ]
    }
   ],
   "source": [
    "from pprint import pprint\n",
    "import functools\n",
    "\n",
    "def parser(file = 'input.txt'):\n",
    "    with open(file, 'r') as file:\n",
    "        for line in file:\n",
    "            yield line.strip('\\n')\n",
    "\n",
    "@functools.lru_cache(maxsize=None)\n",
    "def r(rest: str, numbers: tuple, counter: int | None):\n",
    "    print(rest, numbers, counter)\n",
    "    # als rest leeg is maar er zijn nog numbers over\n",
    "    if not rest and numbers:\n",
    "        return False\n",
    "    # als rest niet leeg  maar numbers wel\n",
    "    elif not numbers:\n",
    "        # True als geen '#' over zijn en counter niet positief is anders False\n",
    "        return not rest.count('#') and not counter\n",
    "    char, rest = rest[0], rest[1:]\n",
    "    if counter:\n",
    "        # als counter nog positief is\n",
    "        if char in '#?':\n",
    "            return r(rest, numbers, counter - 1)\n",
    "        else: # volgende char moet # of ? zijn\n",
    "            return False\n",
    "    else:\n",
    "        if char == '#':\n",
    "            c, n = numbers[0], numbers[1:]\n",
    "            return r(rest, n, c-1)\n",
    "        elif char == '?':\n",
    "            c, n = numbers[0], numbers[1:]\n",
    "            return r(rest, numbers, None) + r(rest, n, c-1)\n",
    "        return r(rest, numbers, counter)\n",
    "        \n",
    "    raise Exception(\"bad case\", rest, numbers, counter)\n",
    "\n",
    "def solver(lines):\n",
    "    summed = 0\n",
    "    lines = [*lines][:1]\n",
    "    for idx, line in enumerate(lines):\n",
    "        # print(idx)\n",
    "        # print(line)\n",
    "        board, layout = line.split(' ')\n",
    "        layout = tuple([int(n) for n in layout.split(',')])\n",
    "        ret = r(board, layout, None)\n",
    "        # x = [possible for part in board.split('.') if part for possible in r(part)]\n",
    "        # print(x)\n",
    "        # print(\"gen done\")\n",
    "    \n",
    "\n",
    "\n",
    "test = solver(parser('test_input.txt'))\n",
    "print(test)\n",
    "assert test == None\n",
    "# print(solver(parser()))\n"
   ]
  },
  {
   "cell_type": "code",
   "execution_count": null,
   "metadata": {},
   "outputs": [],
   "source": []
  }
 ],
 "metadata": {
  "kernelspec": {
   "display_name": "Python 3",
   "language": "python",
   "name": "python3"
  },
  "language_info": {
   "codemirror_mode": {
    "name": "ipython",
    "version": 3
   },
   "file_extension": ".py",
   "mimetype": "text/x-python",
   "name": "python",
   "nbconvert_exporter": "python",
   "pygments_lexer": "ipython3",
   "version": "3.11.5"
  }
 },
 "nbformat": 4,
 "nbformat_minor": 2
}
