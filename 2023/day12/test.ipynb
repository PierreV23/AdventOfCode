{
 "cells": [
  {
   "cell_type": "code",
   "execution_count": 5,
   "metadata": {},
   "outputs": [
    {
     "name": "stdout",
     "output_type": "stream",
     "text": [
      "None\n",
      "None\n"
     ]
    }
   ],
   "source": [
    "from typing import Iterable\n",
    "\n",
    "\n",
    "def parser(file = 'input.txt'):\n",
    "    with open(file, 'r') as file:\n",
    "        for line in file:\n",
    "            yield line.strip('\\n')\n",
    "\n",
    "def solver(lines: Iterable[str]):\n",
    "    lines = [*lines]\n",
    "\n",
    "\n",
    "if __name__ == '__main__':\n",
    "    test = solver(parser('test_input.txt'))\n",
    "    print(test)\n",
    "    assert test == None\n",
    "    print(solver(parser()))"
   ]
  },
  {
   "cell_type": "code",
   "execution_count": 9,
   "metadata": {},
   "outputs": [
    {
     "ename": "SyntaxError",
     "evalue": "incomplete input (1439126145.py, line 11)",
     "output_type": "error",
     "traceback": [
      "\u001b[1;36m  Cell \u001b[1;32mIn[9], line 11\u001b[1;36m\u001b[0m\n\u001b[1;33m    \u001b[0m\n\u001b[1;37m    ^\u001b[0m\n\u001b[1;31mSyntaxError\u001b[0m\u001b[1;31m:\u001b[0m incomplete input\n"
     ]
    }
   ],
   "source": [
    "\n",
    "\n",
    "\n",
    "lines = [*parser('test_input.txt')]\n",
    "print(lines)\n",
    "lines = lines[1:3]\n",
    "print(lines)\n",
    "for line in lines:\n",
    "    print(line)\n",
    "    board, layout = line.split(' ')\n",
    "    layout = [int(n) for n in layout.split(',')]\n",
    "    counter = 0\n",
    "    queue = [(layout[::], line, False)]\n",
    "    for layout, line, ongoing in queue:\n",
    "        if ongoing:\n",
    "            ...\n",
    "        else:\n",
    "            ...\n",
    "    print(counter)\n",
    "\n"
   ]
  },
  {
   "cell_type": "code",
   "execution_count": null,
   "metadata": {},
   "outputs": [],
   "source": []
  }
 ],
 "metadata": {
  "kernelspec": {
   "display_name": "Python 3",
   "language": "python",
   "name": "python3"
  },
  "language_info": {
   "codemirror_mode": {
    "name": "ipython",
    "version": 3
   },
   "file_extension": ".py",
   "mimetype": "text/x-python",
   "name": "python",
   "nbconvert_exporter": "python",
   "pygments_lexer": "ipython3",
   "version": "3.10.5"
  }
 },
 "nbformat": 4,
 "nbformat_minor": 2
}
