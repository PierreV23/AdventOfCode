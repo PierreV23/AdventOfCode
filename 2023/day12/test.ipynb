{
 "cells": [
  {
   "cell_type": "code",
   "execution_count": 2,
   "metadata": {},
   "outputs": [
    {
     "name": "stdout",
     "output_type": "stream",
     "text": [
      "None\n",
      "None\n"
     ]
    }
   ],
   "source": [
    "from typing import Iterable\n",
    "\n",
    "\n",
    "def parser(file = 'input.txt'):\n",
    "    with open(file, 'r') as file:\n",
    "        for line in file:\n",
    "            yield line.strip('\\n')\n",
    "\n",
    "def solver(lines: Iterable[str]):\n",
    "    lines = [*lines]\n",
    "\n",
    "\n",
    "if __name__ == '__main__':\n",
    "    test = solver(parser('test_input.txt'))\n",
    "    print(test)\n",
    "    assert test == None\n",
    "    print(solver(parser()))"
   ]
  },
  {
   "cell_type": "code",
   "execution_count": 9,
   "metadata": {},
   "outputs": [
    {
     "name": "stdout",
     "output_type": "stream",
     "text": [
      "['???.### 1,1,3', '.??..??...?##. 1,1,3', '?#?#?#?#?#?#?#? 1,3,1,6', '????.#...#... 4,1,1', '????.######..#####. 1,6,5', '?###???????? 3,2,1']\n",
      "['.??..??...?##. 1,1,3', '?#?#?#?#?#?#?#? 1,3,1,6']\n",
      ".??..??...?##. 1,1,3\n",
      "['...........##.',\n",
      " '.#.........##.',\n",
      " '..#........##.',\n",
      " '.##........##.',\n",
      " '.....#.....##.',\n",
      " '.#...#.....##.',\n",
      " '..#..#.....##.',\n",
      " '.##..#.....##.',\n",
      " '......#....##.',\n",
      " '.#....#....##.',\n",
      " '..#...#....##.',\n",
      " '.##...#....##.',\n",
      " '.....##....##.',\n",
      " '.#...##....##.',\n",
      " '..#..##....##.',\n",
      " '.##..##....##.',\n",
      " '..........###.',\n",
      " '.#........###.',\n",
      " '..#.......###.',\n",
      " '.##.......###.',\n",
      " '.....#....###.',\n",
      " '.#...#....###.',\n",
      " '..#..#....###.',\n",
      " '.##..#....###.',\n",
      " '......#...###.',\n",
      " '.#....#...###.',\n",
      " '..#...#...###.',\n",
      " '.##...#...###.',\n",
      " '.....##...###.',\n",
      " '.#...##...###.',\n",
      " '..#..##...###.',\n",
      " '.##..##...###.']\n"
     ]
    }
   ],
   "source": [
    "from pprint import pprint\n",
    "\n",
    "def r(rest: list[str]):\n",
    "    if len(rest) == 1:\n",
    "        return rest if rest[0] in '.#' else ['#', '.']\n",
    "    char, *rest = rest\n",
    "    return [c+t for t in r(rest) for c in (char if char in '.#' else '.#')]\n",
    "\n",
    "lines = [*parser('test_input.txt')]\n",
    "print(lines)\n",
    "lines = lines[1:3]\n",
    "print(lines)\n",
    "for line in lines:\n",
    "    print(line)\n",
    "    board, layout = line.split(' ')\n",
    "    layout = [int(n) for n in layout.split(',')]\n",
    "    ret = r([*board])\n",
    "    arr = [a for a in ret if [len(p) for p in a.split('.') if p] == layout]\n",
    "    # pprint()\n",
    "    break\n"
   ]
  },
  {
   "cell_type": "code",
   "execution_count": null,
   "metadata": {},
   "outputs": [],
   "source": []
  }
 ],
 "metadata": {
  "kernelspec": {
   "display_name": "Python 3",
   "language": "python",
   "name": "python3"
  },
  "language_info": {
   "codemirror_mode": {
    "name": "ipython",
    "version": 3
   },
   "file_extension": ".py",
   "mimetype": "text/x-python",
   "name": "python",
   "nbconvert_exporter": "python",
   "pygments_lexer": "ipython3",
   "version": "3.11.5"
  }
 },
 "nbformat": 4,
 "nbformat_minor": 2
}
