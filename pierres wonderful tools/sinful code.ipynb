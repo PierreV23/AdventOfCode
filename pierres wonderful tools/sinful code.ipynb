{
 "cells": [
  {
   "cell_type": "code",
   "execution_count": 21,
   "metadata": {},
   "outputs": [
    {
     "data": {
      "text/plain": [
       "[(0, 1), (2, 3), (4, 5)]"
      ]
     },
     "execution_count": 21,
     "metadata": {},
     "output_type": "execute_result"
    }
   ],
   "source": [
    "M = 6\n",
    "assert M % 2 ==0\n",
    "[(b, next(vars()['.0'])) for b in range(M)]"
   ]
  },
  {
   "cell_type": "code",
   "execution_count": 61,
   "metadata": {},
   "outputs": [
    {
     "data": {
      "text/plain": [
       "[(0, 1, 2, 3, 4), (5, 6, 7, 8, 9), (10, 11, 12, 13, 14)]"
      ]
     },
     "execution_count": 61,
     "metadata": {},
     "output_type": "execute_result"
    }
   ],
   "source": [
    "M = 15; N = 5\n",
    "assert M % N == 0\n",
    "[(b, *(next(t) for _ in range(N-1))) for b in range(M) if (t:=vars()['.0'], True)[1]]"
   ]
  },
  {
   "cell_type": "code",
   "execution_count": 63,
   "metadata": {},
   "outputs": [
    {
     "name": "stdout",
     "output_type": "stream",
     "text": [
      "4 {'.0': <enumerate object at 0x000001B9ABA42B40>, '_1': 0, '_2': 5}\n",
      "5 {'.0': <enumerate object at 0x000001B9ABA42B40>, '_1': 1, '_2': 4}\n",
      "6 {'.0': <enumerate object at 0x000001B9ABA42B40>, '_1': 2, '_2': 3}\n",
      "7 {'.0': <enumerate object at 0x000001B9ABA42B40>, '_1': 3, '_2': 2}\n",
      "7\n"
     ]
    }
   ],
   "source": [
    "a = 3\n",
    "[print(globals()['a'], vars()) for _1, _2 in enumerate(range(5, 1, -1)) if (a:=globals().get('a', 1)+1, True)[1]]\n",
    "print(a)\n",
    "# je kan blijkbaar globals aanpassen vanuit list compr?"
   ]
  },
  {
   "cell_type": "code",
   "execution_count": 43,
   "metadata": {},
   "outputs": [
    {
     "data": {
      "text/plain": [
       "[(0, 1), (1, 2), (2, 3)]"
      ]
     },
     "execution_count": 43,
     "metadata": {},
     "output_type": "execute_result"
    }
   ],
   "source": [
    "pairs = lambda iterable: (a:=iter(iterable), b:=iter(iterable), next(b), zip(a,b))[-1]\n",
    "[a for a in pairs(range(4))]"
   ]
  },
  {
   "cell_type": "code",
   "execution_count": 49,
   "metadata": {},
   "outputs": [
    {
     "name": "stdout",
     "output_type": "stream",
     "text": [
      "Number was invalid!\n",
      "Number was invalid!\n"
     ]
    },
    {
     "data": {
      "text/plain": [
       "[1, 3]"
      ]
     },
     "execution_count": 49,
     "metadata": {},
     "output_type": "execute_result"
    }
   ],
   "source": [
    "vraag_nummers = lambda aantal, prompt=\"Give a number: \", invalid_prompt=\"Number was invalid!\", retry_prompt=\"Retry giving number: \": (\n",
    "    (whil := [None] * aantal),\n",
    "    [\n",
    "        float(i) if \".\" in i else int(i)\n",
    "        for _ in whil\n",
    "        if (\n",
    "            b := (\n",
    "                (\n",
    "                    i := input(\n",
    "                        prompt\n",
    "                        if \"b\" not in vars() or vars().get(\"b\", False)\n",
    "                        else (print(invalid_prompt), retry_prompt)[1]\n",
    "                    )\n",
    "                ).isdigit()\n",
    "                or (\n",
    "                    i.count(\".\") == 1\n",
    "                    and all(n == \"\" or n.isdigit() for n in i.split(\".\"))\n",
    "                    and any(i.split(\".\"))\n",
    "                )\n",
    "            ),\n",
    "            whil.append(None) if not b else None,\n",
    "        )[0]\n",
    "    ],\n",
    ")[\n",
    "    1\n",
    "]\n",
    "# singeline\n",
    "# vraag_nummers = lambda aantal, prompt=\"Give a number: \", invalid_prompt=\"Number was invalid!\", retry_prompt=\"Retry giving number: \": ( (whil := [None] * aantal), [ float(i) if \".\" in i else int(i) for _ in whil if ( b := ( ( i := input( prompt if \"b\" not in vars() or vars().get(\"b\", False) else (print(invalid_prompt), retry_prompt)[1] ) ).isdigit() or ( i.count(\".\") == 1 and all(n == \"\" or n.isdigit() for n in i.split(\".\")) and any(i.split(\".\")) ) ), whil.append(None) if not b else None, )[0] ],)[1]\n",
    "\n",
    "vraag_nummers(2)"
   ]
  },
  {
   "cell_type": "code",
   "execution_count": 1,
   "metadata": {},
   "outputs": [
    {
     "data": {
      "text/plain": [
       "[(6, 'a'), (5, 'b'), (4, 'c'), (3, 'd'), (2, 'e'), (1, 'f'), (0, 'g')]"
      ]
     },
     "execution_count": 1,
     "metadata": {},
     "output_type": "execute_result"
    }
   ],
   "source": [
    "enumerate_v2 = lambda iterable, start=-1, increment=1: ((idx, elmn) for elmn in iterable if (idx:=vars().get('idx',start)+increment, True)[1])\n",
    "\n",
    "string = \"abcdefg\"\n",
    "print([*enumerate_v2(string, start = len(string), increment=-1)])\n",
    "# -> [(6, 'a'), (5, 'b'), (4, 'c'), (3, 'd'), (2, 'e'), (1, 'f'), (0, 'g')]"
   ]
  },
  {
   "cell_type": "code",
   "execution_count": null,
   "metadata": {},
   "outputs": [],
   "source": []
  }
 ],
 "metadata": {
  "kernelspec": {
   "display_name": "Python 3",
   "language": "python",
   "name": "python3"
  },
  "language_info": {
   "codemirror_mode": {
    "name": "ipython",
    "version": 3
   },
   "file_extension": ".py",
   "mimetype": "text/x-python",
   "name": "python",
   "nbconvert_exporter": "python",
   "pygments_lexer": "ipython3",
   "version": "3.10.5"
  }
 },
 "nbformat": 4,
 "nbformat_minor": 2
}
